{
 "metadata": {
  "name": "ex361"
 },
 "nbformat": 3,
 "nbformat_minor": 0,
 "worksheets": [
  {
   "cells": [
    {
     "cell_type": "code",
     "collapsed": false,
     "input": "# filename: ex361.py\n# Query Linked Movie database endpoint about common actors of two directors\n\nfrom SPARQLWrapper import SPARQLWrapper, JSON",
     "language": "python",
     "metadata": {},
     "outputs": [],
     "prompt_number": 1
    },
    {
     "cell_type": "code",
     "collapsed": false,
     "input": "sparql = SPARQLWrapper(\"http://data.linkedmdb.org/sparql\")\nqueryString = \"\"\"\nPREFIX m: <http://data.linkedmdb.org/resource/movie/>\nSELECT DISTINCT ?actorName WHERE {\n\n  ?dir1     m:director_name \"Steven Spielberg\" .\n  ?dir2     m:director_name \"Stanley Kubrick\" .\n\n  ?dir1film m:director ?dir1 ;\n            m:actor ?actor .\n\n  ?dir2film m:director ?dir2 ;\n            m:actor ?actor .\n\n  ?actor    m:actor_name ?actorName .\n}\n\"\"\"",
     "language": "python",
     "metadata": {},
     "outputs": [],
     "prompt_number": 2
    },
    {
     "cell_type": "code",
     "collapsed": false,
     "input": "sparql.setQuery(queryString)\nsparql.setReturnFormat(JSON)\nresults = sparql.query().convert()",
     "language": "python",
     "metadata": {},
     "outputs": [],
     "prompt_number": 3
    },
    {
     "cell_type": "code",
     "collapsed": false,
     "input": "if (len(results[\"results\"][\"bindings\"]) == 0):\n  print \"No results found.\"\nelse:\n  for result in results[\"results\"][\"bindings\"]:\n      print result[\"actorName\"][\"value\"]",
     "language": "python",
     "metadata": {},
     "outputs": [
      {
       "output_type": "stream",
       "stream": "stdout",
       "text": "Wolf Kahler\nSlim Pickens\nTom Cruise\nArliss Howard\nBen Johnson\nScatman Crothers\nPhilip Stone\n"
      }
     ],
     "prompt_number": 4
    },
    {
     "cell_type": "code",
     "collapsed": false,
     "input": "results",
     "language": "python",
     "metadata": {},
     "outputs": [
      {
       "output_type": "pyout",
       "prompt_number": 5,
       "text": "{u'head': {u'vars': [u'actorName']},\n u'results': {u'bindings': [{u'actorName': {u'type': u'literal',\n     u'value': u'Wolf Kahler'}},\n   {u'actorName': {u'type': u'literal', u'value': u'Slim Pickens'}},\n   {u'actorName': {u'type': u'literal', u'value': u'Tom Cruise'}},\n   {u'actorName': {u'type': u'literal', u'value': u'Arliss Howard'}},\n   {u'actorName': {u'type': u'literal', u'value': u'Ben Johnson'}},\n   {u'actorName': {u'type': u'literal', u'value': u'Scatman Crothers'}},\n   {u'actorName': {u'type': u'literal', u'value': u'Philip Stone'}}]}}"
      }
     ],
     "prompt_number": 5
    }
   ],
   "metadata": {}
  }
 ]
}