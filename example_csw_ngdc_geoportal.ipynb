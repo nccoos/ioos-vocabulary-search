{
 "metadata": {
  "name": "Untitled0"
 },
 "nbformat": 3,
 "nbformat_minor": 0,
 "worksheets": [
  {
   "cells": [
    {
     "cell_type": "heading",
     "level": 1,
     "metadata": {},
     "source": "OWSLIB-CSW Client Access with NGDC Geoportal CSW Endpoint"
    },
    {
     "cell_type": "code",
     "collapsed": false,
     "input": "from owslib.csw import CatalogueServiceWeb\nfrom owslib import fes",
     "language": "python",
     "metadata": {},
     "outputs": [],
     "prompt_number": 1
    },
    {
     "cell_type": "code",
     "collapsed": false,
     "input": "from IPython.core.display import HTML\nHTML('<iframe src=http://www.ngdc.noaa.gov/geoportal/ width=950 height=400></iframe>')",
     "language": "python",
     "metadata": {},
     "outputs": [
      {
       "html": "<iframe src=http://www.ngdc.noaa.gov/geoportal/ width=950 height=400></iframe>",
       "output_type": "pyout",
       "prompt_number": 2,
       "text": "<IPython.core.display.HTML at 0x80949e8>"
      }
     ],
     "prompt_number": 2
    },
    {
     "cell_type": "code",
     "collapsed": false,
     "input": "endpoint = 'http://www.ngdc.noaa.gov/geoportal/csw' \ncsw = CatalogueServiceWeb(endpoint,timeout=30)\ncsw.version",
     "language": "python",
     "metadata": {},
     "outputs": [
      {
       "output_type": "pyout",
       "prompt_number": 3,
       "text": "'2.0.2'"
      }
     ],
     "prompt_number": 3
    },
    {
     "cell_type": "code",
     "collapsed": false,
     "input": "[op.name for op in csw.operations]",
     "language": "python",
     "metadata": {},
     "outputs": [
      {
       "output_type": "pyout",
       "prompt_number": 4,
       "text": "['GetCapabilities',\n 'DescribeRecord',\n 'GetRecords',\n 'GetRecordById',\n 'Transaction']"
      }
     ],
     "prompt_number": 4
    },
    {
     "cell_type": "code",
     "collapsed": false,
     "input": "csw.getrecords(keywords=['sea_water_temperature'], maxrecords=20)\ncsw.results",
     "language": "python",
     "metadata": {},
     "outputs": [
      {
       "output_type": "pyout",
       "prompt_number": 5,
       "text": "{'matches': 797, 'nextrecord': 21, 'returned': 20}"
      }
     ],
     "prompt_number": 5
    },
    {
     "cell_type": "code",
     "collapsed": false,
     "input": "for rec in csw.records:\n     print csw.records[rec].title",
     "language": "python",
     "metadata": {},
     "outputs": [
      {
       "output_type": "stream",
       "stream": "stdout",
       "text": "TAO Legacy Production Mooring Data\nTAO Refresh Mooring Data\nTAO Legacy Production Mooring Data\nTAO Legacy Production Mooring Data\nTAO Refresh Mooring Data\nTAO Refresh Mooring Data\nTAO Legacy Production Mooring Data\nNOAA NDBC SOS - sea_water_temperature\nTAO Legacy Production Mooring Data\nTAO Refresh Mooring Data\nTAO Legacy Production Mooring Data\nTAO Legacy Production Mooring Data\nTAO Legacy Production Mooring Data\nTAO Legacy Production Mooring Data\nTAO Refresh Mooring Data\nTAO Legacy Production Mooring Data\nTAO Legacy Production Mooring Data\nTAO Legacy Production Mooring Data\nTAO Legacy Production Mooring Data\nTAO Legacy Production Mooring Data\n"
      }
     ],
     "prompt_number": 6
    },
    {
     "cell_type": "code",
     "collapsed": false,
     "input": "",
     "language": "python",
     "metadata": {},
     "outputs": []
    }
   ],
   "metadata": {}
  }
 ]
}
