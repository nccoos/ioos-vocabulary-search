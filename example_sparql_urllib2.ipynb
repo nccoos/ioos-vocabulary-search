{
 "metadata": {
  "name": "example_sparql_urllib2"
 },
 "nbformat": 3,
 "nbformat_minor": 0,
 "worksheets": [
  {
   "cells": [
    {
     "cell_type": "code",
     "collapsed": false,
     "input": "# example_sparql_urllib2\n# Send SPARQL query to SPARQL endpoint, store and output result\n# using urllib2\n#\n# modified from ORA \"Learning SPARQL\" by Bob DuCharme -- ex358.py\n#\n\nimport urllib2",
     "language": "python",
     "metadata": {},
     "outputs": []
    },
    {
     "cell_type": "code",
     "collapsed": false,
     "input": "endpointURL = \"http://mmisw.org/ont/\"",
     "language": "python",
     "metadata": {},
     "outputs": []
    },
    {
     "cell_type": "code",
     "collapsed": false,
     "input": "# Example1 IOOS query http://www.unc.edu/~haines/orrioos.html#Example1\n# Find IOOS parameters that have exactMatch or closeMatch to CF terms\nquery = \"\"\"\nPREFIX ioos: <http://mmisw.org/ont/ioos/parameter/>\nSELECT DISTINCT ?parameter ?definition ?unit ?property ?value \nWHERE {?parameter a ioos:Parameter .\n       ?parameter ?property ?value .\n       ?parameter ioos:Term ?term . \n       ?parameter ioos:Definition ?definition . \n       ?parameter ioos:Units ?unit .\n       FILTER (regex(str(?property), \"(exactMatch|closeMatch)\", \"i\") && regex(str(?value), \"cf\", \"i\") )\n      } \nORDER BY ?parameter\n\"\"\"\nescapedQuery = urllib2.quote(query)",
     "language": "python",
     "metadata": {},
     "outputs": []
    },
    {
     "cell_type": "code",
     "collapsed": false,
     "input": "# MMISW uses \"sparql=\" instead of \"query=\" \n# http://mmisw.org/ont/?form=json&sparql=SELECT++%3Fs+%3Fp+%3Fo+WHERE+{%3Fs+%3Fp+%3Fo.+}+LIMIT+20%0D%0A\nrequestURL = endpointURL + \"?form=json&sparql=\" + escapedQuery\nrequestURL",
     "language": "python",
     "metadata": {},
     "outputs": []
    },
    {
     "cell_type": "code",
     "collapsed": false,
     "input": "request = urllib2.Request(requestURL)\n# HTML default return format \nresult = urllib2.urlopen(request).read()",
     "language": "python",
     "metadata": {},
     "outputs": []
    }
   ],
   "metadata": {}
  }
 ]
}