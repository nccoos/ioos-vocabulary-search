{
 "metadata": {
  "name": "example_sparql_urllib2"
 },
 "nbformat": 3,
 "nbformat_minor": 0,
 "worksheets": [
  {
   "cells": [
    {
     "cell_type": "code",
     "collapsed": false,
     "input": "# example_sparql_urllib2\n#\n# Send SPARQL query to MMI ORR SPARQL endpoint, return result as JSON\n# using urllib2\n# \n\nimport urllib2, json",
     "language": "python",
     "metadata": {},
     "outputs": [],
     "prompt_number": 26
    },
    {
     "cell_type": "code",
     "collapsed": false,
     "input": "# Example1 IOOS query http://www.unc.edu/~haines/orrioos.html#Example1\n# Find IOOS parameters that have exactMatch or closeMatch to CF terms\nquery = \"\"\"\nPREFIX ioos: <http://mmisw.org/ont/ioos/parameter/>\nSELECT DISTINCT ?parameter ?definition ?unit ?property ?value \nWHERE {?parameter a ioos:Parameter .\n       ?parameter ?property ?value .\n       ?parameter ioos:Term ?term . \n       ?parameter ioos:Definition ?definition . \n       ?parameter ioos:Units ?unit .\n       FILTER (regex(str(?property), \"(exactMatch|closeMatch)\", \"i\") && regex(str(?value), \"cf\", \"i\") )\n      } \nORDER BY ?parameter\n\"\"\"\nescapedQuery = urllib2.quote(query)",
     "language": "python",
     "metadata": {},
     "outputs": [],
     "prompt_number": 27
    },
    {
     "cell_type": "code",
     "collapsed": false,
     "input": "# MMISW uses \"sparql=\" instead of \"query=\" \n# http://mmisw.org/ont/?form=json&sparql=SELECT++%3Fs+%3Fp+%3Fo+WHERE+{%3Fs+%3Fp+%3Fo.+}+LIMIT+20%0D%0A\nendpointURL = \"http://mmisw.org/ont/\"\nrequestURL = endpointURL + \"?form=json&sparql=\" + escapedQuery\nrequestURL",
     "language": "python",
     "metadata": {},
     "outputs": [
      {
       "output_type": "pyout",
       "prompt_number": 28,
       "text": "'http://mmisw.org/ont/?form=json&sparql=%0APREFIX%20ioos%3A%20%3Chttp%3A//mmisw.org/ont/ioos/parameter/%3E%0ASELECT%20DISTINCT%20%3Fparameter%20%3Fdefinition%20%3Funit%20%3Fproperty%20%3Fvalue%20%0AWHERE%20%7B%3Fparameter%20a%20ioos%3AParameter%20.%0A%20%20%20%20%20%20%20%3Fparameter%20%3Fproperty%20%3Fvalue%20.%0A%20%20%20%20%20%20%20%3Fparameter%20ioos%3ATerm%20%3Fterm%20.%20%0A%20%20%20%20%20%20%20%3Fparameter%20ioos%3ADefinition%20%3Fdefinition%20.%20%0A%20%20%20%20%20%20%20%3Fparameter%20ioos%3AUnits%20%3Funit%20.%0A%20%20%20%20%20%20%20FILTER%20%28regex%28str%28%3Fproperty%29%2C%20%22%28exactMatch%7CcloseMatch%29%22%2C%20%22i%22%29%20%26%26%20regex%28str%28%3Fvalue%29%2C%20%22cf%22%2C%20%22i%22%29%20%29%0A%20%20%20%20%20%20%7D%20%0AORDER%20BY%20%3Fparameter%0A'"
      }
     ],
     "prompt_number": 28
    },
    {
     "cell_type": "code",
     "collapsed": false,
     "input": "request = urllib2.Request(requestURL)\n# HTML default return format \nresult = urllib2.urlopen(request).read()\nj = json.loads(result)\nj.keys()",
     "language": "python",
     "metadata": {},
     "outputs": [
      {
       "output_type": "pyout",
       "prompt_number": 29,
       "text": "[u'values', u'names']"
      }
     ],
     "prompt_number": 29
    },
    {
     "cell_type": "code",
     "collapsed": false,
     "input": "j[\"names\"]",
     "language": "python",
     "metadata": {},
     "outputs": [
      {
       "output_type": "pyout",
       "prompt_number": 30,
       "text": "[u'parameter', u'definition', u'unit', u'property', u'value']"
      }
     ],
     "prompt_number": 30
    },
    {
     "cell_type": "code",
     "collapsed": false,
     "input": "j[\"values\"][0:3]",
     "language": "python",
     "metadata": {},
     "outputs": [
      {
       "output_type": "pyout",
       "prompt_number": 31,
       "text": "[[u'<http://mmisw.org/ont/ioos/parameter/air_pressure>',\n  u'\"Pressure exerted by overlying air\"',\n  u'\"hPa\"',\n  u'<http://www.w3.org/2004/02/skos/core#exactMatch>',\n  u'<http://mmisw.org/ont/cf/parameter/air_pressure>'],\n [u'<http://mmisw.org/ont/ioos/parameter/air_temperature>',\n  u'\"Temperature of air in situ.\"',\n  u'\"celcius\"',\n  u'<http://www.w3.org/2004/02/skos/core#exactMatch>',\n  u'<http://mmisw.org/ont/cf/parameter/air_temperature>'],\n [u'<http://mmisw.org/ont/ioos/parameter/altitude>',\n  u'\"Z-coordinate of observation in vertical distance above reference. Up is positive.  (sea surface | geiod | ellipsoid | MSL | MLLW | AGL)\"',\n  u'\"meter\"',\n  u'<http://www.w3.org/2004/02/skos/core#exactMatch>',\n  u'<http://mmisw.org/ont/cf/parameter/altitude>']]"
      }
     ],
     "prompt_number": 31
    },
    {
     "cell_type": "code",
     "collapsed": false,
     "input": "",
     "language": "python",
     "metadata": {},
     "outputs": [],
     "prompt_number": 31
    },
    {
     "cell_type": "code",
     "collapsed": false,
     "input": "",
     "language": "python",
     "metadata": {},
     "outputs": [],
     "prompt_number": 31
    }
   ],
   "metadata": {}
  }
 ]
}